{
 "cells": [
  {
   "cell_type": "code",
   "execution_count": 3,
   "id": "af97c11a",
   "metadata": {},
   "outputs": [
    {
     "name": "stdout",
     "output_type": "stream",
     "text": [
      "25\n"
     ]
    }
   ],
   "source": [
    "a = lambda x: x**2\n",
    "print(a(5))"
   ]
  },
  {
   "cell_type": "code",
   "execution_count": 4,
   "id": "4f0e1115",
   "metadata": {},
   "outputs": [
    {
     "name": "stdout",
     "output_type": "stream",
     "text": [
      "625\n"
     ]
    }
   ],
   "source": [
    "print(a(25))"
   ]
  },
  {
   "cell_type": "code",
   "execution_count": 5,
   "id": "e52d1ff6",
   "metadata": {},
   "outputs": [
    {
     "name": "stdout",
     "output_type": "stream",
     "text": [
      "0\n"
     ]
    }
   ],
   "source": [
    "print((0))"
   ]
  },
  {
   "cell_type": "code",
   "execution_count": 6,
   "id": "0f0c2f78",
   "metadata": {},
   "outputs": [],
   "source": [
    "import pandas as pd\n",
    "import numpy as np"
   ]
  },
  {
   "cell_type": "code",
   "execution_count": 9,
   "id": "042e4d91",
   "metadata": {},
   "outputs": [],
   "source": [
    "b = pd.DataFrame(np.arange(16).reshape((4,4)),\n",
    "            index=  ['a','b','c','d'],\n",
    "            columns = ['one','two','three','four']\n",
    ")"
   ]
  },
  {
   "cell_type": "code",
   "execution_count": 10,
   "id": "3ccf5efc",
   "metadata": {},
   "outputs": [
    {
     "data": {
      "text/html": [
       "<div>\n",
       "<style scoped>\n",
       "    .dataframe tbody tr th:only-of-type {\n",
       "        vertical-align: middle;\n",
       "    }\n",
       "\n",
       "    .dataframe tbody tr th {\n",
       "        vertical-align: top;\n",
       "    }\n",
       "\n",
       "    .dataframe thead th {\n",
       "        text-align: right;\n",
       "    }\n",
       "</style>\n",
       "<table border=\"1\" class=\"dataframe\">\n",
       "  <thead>\n",
       "    <tr style=\"text-align: right;\">\n",
       "      <th></th>\n",
       "      <th>one</th>\n",
       "      <th>two</th>\n",
       "      <th>three</th>\n",
       "      <th>four</th>\n",
       "    </tr>\n",
       "  </thead>\n",
       "  <tbody>\n",
       "    <tr>\n",
       "      <th>a</th>\n",
       "      <td>0</td>\n",
       "      <td>1</td>\n",
       "      <td>2</td>\n",
       "      <td>3</td>\n",
       "    </tr>\n",
       "    <tr>\n",
       "      <th>b</th>\n",
       "      <td>4</td>\n",
       "      <td>5</td>\n",
       "      <td>6</td>\n",
       "      <td>7</td>\n",
       "    </tr>\n",
       "    <tr>\n",
       "      <th>c</th>\n",
       "      <td>8</td>\n",
       "      <td>9</td>\n",
       "      <td>10</td>\n",
       "      <td>11</td>\n",
       "    </tr>\n",
       "    <tr>\n",
       "      <th>d</th>\n",
       "      <td>12</td>\n",
       "      <td>13</td>\n",
       "      <td>14</td>\n",
       "      <td>15</td>\n",
       "    </tr>\n",
       "  </tbody>\n",
       "</table>\n",
       "</div>"
      ],
      "text/plain": [
       "   one  two  three  four\n",
       "a    0    1      2     3\n",
       "b    4    5      6     7\n",
       "c    8    9     10    11\n",
       "d   12   13     14    15"
      ]
     },
     "execution_count": 10,
     "metadata": {},
     "output_type": "execute_result"
    }
   ],
   "source": [
    "b"
   ]
  },
  {
   "cell_type": "code",
   "execution_count": 13,
   "id": "19cf4156",
   "metadata": {},
   "outputs": [
    {
     "data": {
      "text/plain": [
       "11"
      ]
     },
     "execution_count": 13,
     "metadata": {},
     "output_type": "execute_result"
    }
   ],
   "source": [
    "b.iloc[2,3]"
   ]
  },
  {
   "cell_type": "code",
   "execution_count": 14,
   "id": "acc04206",
   "metadata": {},
   "outputs": [
    {
     "data": {
      "text/plain": [
       "one       8\n",
       "two       9\n",
       "three    10\n",
       "four     11\n",
       "Name: c, dtype: int32"
      ]
     },
     "execution_count": 14,
     "metadata": {},
     "output_type": "execute_result"
    }
   ],
   "source": [
    "b.loc['c']"
   ]
  },
  {
   "cell_type": "code",
   "execution_count": 16,
   "id": "d3af6295",
   "metadata": {},
   "outputs": [],
   "source": [
    "c = b.four.apply(lambda i:i*10 )"
   ]
  },
  {
   "cell_type": "code",
   "execution_count": 17,
   "id": "c3c0865a",
   "metadata": {},
   "outputs": [
    {
     "data": {
      "text/plain": [
       "a     30\n",
       "b     70\n",
       "c    110\n",
       "d    150\n",
       "Name: four, dtype: int64"
      ]
     },
     "execution_count": 17,
     "metadata": {},
     "output_type": "execute_result"
    }
   ],
   "source": [
    "c"
   ]
  },
  {
   "cell_type": "code",
   "execution_count": 18,
   "id": "a33ad783",
   "metadata": {},
   "outputs": [
    {
     "data": {
      "text/html": [
       "<div>\n",
       "<style scoped>\n",
       "    .dataframe tbody tr th:only-of-type {\n",
       "        vertical-align: middle;\n",
       "    }\n",
       "\n",
       "    .dataframe tbody tr th {\n",
       "        vertical-align: top;\n",
       "    }\n",
       "\n",
       "    .dataframe thead th {\n",
       "        text-align: right;\n",
       "    }\n",
       "</style>\n",
       "<table border=\"1\" class=\"dataframe\">\n",
       "  <thead>\n",
       "    <tr style=\"text-align: right;\">\n",
       "      <th></th>\n",
       "      <th>one</th>\n",
       "      <th>two</th>\n",
       "      <th>three</th>\n",
       "      <th>four</th>\n",
       "    </tr>\n",
       "  </thead>\n",
       "  <tbody>\n",
       "    <tr>\n",
       "      <th>a</th>\n",
       "      <td>0</td>\n",
       "      <td>1</td>\n",
       "      <td>2</td>\n",
       "      <td>3</td>\n",
       "    </tr>\n",
       "    <tr>\n",
       "      <th>b</th>\n",
       "      <td>4</td>\n",
       "      <td>5</td>\n",
       "      <td>6</td>\n",
       "      <td>7</td>\n",
       "    </tr>\n",
       "    <tr>\n",
       "      <th>c</th>\n",
       "      <td>8</td>\n",
       "      <td>9</td>\n",
       "      <td>10</td>\n",
       "      <td>11</td>\n",
       "    </tr>\n",
       "    <tr>\n",
       "      <th>d</th>\n",
       "      <td>12</td>\n",
       "      <td>13</td>\n",
       "      <td>14</td>\n",
       "      <td>15</td>\n",
       "    </tr>\n",
       "  </tbody>\n",
       "</table>\n",
       "</div>"
      ],
      "text/plain": [
       "   one  two  three  four\n",
       "a    0    1      2     3\n",
       "b    4    5      6     7\n",
       "c    8    9     10    11\n",
       "d   12   13     14    15"
      ]
     },
     "execution_count": 18,
     "metadata": {},
     "output_type": "execute_result"
    }
   ],
   "source": [
    "b"
   ]
  },
  {
   "cell_type": "code",
   "execution_count": 19,
   "id": "2a56cd94",
   "metadata": {},
   "outputs": [
    {
     "data": {
      "text/plain": [
       "a     3\n",
       "b     7\n",
       "c    11\n",
       "d    15\n",
       "Name: four, dtype: int32"
      ]
     },
     "execution_count": 19,
     "metadata": {},
     "output_type": "execute_result"
    }
   ],
   "source": [
    "b.four"
   ]
  },
  {
   "cell_type": "code",
   "execution_count": 20,
   "id": "1dac8aa6",
   "metadata": {},
   "outputs": [],
   "source": [
    "b.four = b.four.apply(lambda i:i*10 )"
   ]
  },
  {
   "cell_type": "code",
   "execution_count": 21,
   "id": "cbdb881f",
   "metadata": {},
   "outputs": [
    {
     "data": {
      "text/html": [
       "<div>\n",
       "<style scoped>\n",
       "    .dataframe tbody tr th:only-of-type {\n",
       "        vertical-align: middle;\n",
       "    }\n",
       "\n",
       "    .dataframe tbody tr th {\n",
       "        vertical-align: top;\n",
       "    }\n",
       "\n",
       "    .dataframe thead th {\n",
       "        text-align: right;\n",
       "    }\n",
       "</style>\n",
       "<table border=\"1\" class=\"dataframe\">\n",
       "  <thead>\n",
       "    <tr style=\"text-align: right;\">\n",
       "      <th></th>\n",
       "      <th>one</th>\n",
       "      <th>two</th>\n",
       "      <th>three</th>\n",
       "      <th>four</th>\n",
       "    </tr>\n",
       "  </thead>\n",
       "  <tbody>\n",
       "    <tr>\n",
       "      <th>a</th>\n",
       "      <td>0</td>\n",
       "      <td>1</td>\n",
       "      <td>2</td>\n",
       "      <td>30</td>\n",
       "    </tr>\n",
       "    <tr>\n",
       "      <th>b</th>\n",
       "      <td>4</td>\n",
       "      <td>5</td>\n",
       "      <td>6</td>\n",
       "      <td>70</td>\n",
       "    </tr>\n",
       "    <tr>\n",
       "      <th>c</th>\n",
       "      <td>8</td>\n",
       "      <td>9</td>\n",
       "      <td>10</td>\n",
       "      <td>110</td>\n",
       "    </tr>\n",
       "    <tr>\n",
       "      <th>d</th>\n",
       "      <td>12</td>\n",
       "      <td>13</td>\n",
       "      <td>14</td>\n",
       "      <td>150</td>\n",
       "    </tr>\n",
       "  </tbody>\n",
       "</table>\n",
       "</div>"
      ],
      "text/plain": [
       "   one  two  three  four\n",
       "a    0    1      2    30\n",
       "b    4    5      6    70\n",
       "c    8    9     10   110\n",
       "d   12   13     14   150"
      ]
     },
     "execution_count": 21,
     "metadata": {},
     "output_type": "execute_result"
    }
   ],
   "source": [
    "b"
   ]
  },
  {
   "cell_type": "markdown",
   "id": "0a5c204f",
   "metadata": {},
   "source": [
    "## Today's Class (23/Sept/22)"
   ]
  },
  {
   "cell_type": "markdown",
   "id": "79cee2c0",
   "metadata": {},
   "source": [
    "# Summarizing and Computing Descriptive Statistics\n",
    "- Descriptive Statistics\n",
    "- Infrential Statistics"
   ]
  },
  {
   "cell_type": "markdown",
   "id": "d6ac49d7",
   "metadata": {},
   "source": [
    "# Descriptive Statistics\n",
    "- Measures of central Tendencies\n",
    "    * Mean\n",
    "    * Median\n",
    "    * Mode\n",
    "- Summarization\n",
    "- PERCENTILE\n",
    "- 5 NUMBER THEORY\n",
    "- Histograms\n",
    "- pdf (probability development function), cdf, probability\n",
    "- Permutations\n",
    "- Sd , var\n",
    "- Distribution\n",
    "    * Normal Distribution\n",
    "    * Gausian Distribution\n",
    "    * Binomial Distribution\n",
    "    * Standard Normal Deviation\n",
    "    * Transformation"
   ]
  },
  {
   "cell_type": "markdown",
   "id": "a17393e4",
   "metadata": {},
   "source": [
    "# Inferentail Statistics\n",
    " - Z test\n",
    " - T test\n",
    " - ANOVA\n",
    " - CHI SQUARE\n",
    " - Hypothesis Testing\n",
    "     - P value\n",
    "     - confidence Interval CI\n",
    "     - Confidence level\n",
    "     - Z table\n",
    "     - T table\n",
    "     "
   ]
  },
  {
   "cell_type": "markdown",
   "id": "ed2f2c5c",
   "metadata": {},
   "source": [
    "### What is Statistics?\n",
    "- Science of collecting, organizing and analysing data."
   ]
  },
  {
   "cell_type": "raw",
   "id": "28b21051",
   "metadata": {},
   "source": [
    "Descriptive Stat: Organise and Summarize data.\n",
    "Inferential Stat: Techniques to make conclusions/insights from data"
   ]
  },
  {
   "cell_type": "markdown",
   "id": "db25a77d",
   "metadata": {},
   "source": [
    "# What is Population data?  \n",
    "All our data in our consideration."
   ]
  },
  {
   "cell_type": "markdown",
   "id": "d9b1c517",
   "metadata": {},
   "source": [
    "### What is sample Data? \n",
    "A sample collected from poulation."
   ]
  },
  {
   "cell_type": "markdown",
   "id": "5d65fc33",
   "metadata": {},
   "source": [
    "# Smapling Technique: \n",
    "        - Simple Random Sampling ( is a type of probability sampling in which the researcher randomly selects a subset\n",
    "                of participants from a population.)\n",
    "        \n",
    "        - Stratified Sampling (researchers divide a population into homogeneous subpopulations called strata \n",
    "                               (the plural of stratum) based on specific characteristics)\n",
    "        \n",
    "        - Systematic Sampling (involving the selection of elements from an ordered sampling frame. The most common form \n",
    "                               of systematic sampling is an equiprobability method.)\n",
    "        \n",
    "        - Convience Sampling (a type of non-probability sampling that involves the sample being drawn from that part of the\n",
    "                              population that is close to hand.)"
   ]
  },
  {
   "cell_type": "markdown",
   "id": "820b415c",
   "metadata": {},
   "source": [
    "# Despersion directly propotional to KHARAB!!\n",
    "\n",
    "ztada despersion in data is KHARAB data"
   ]
  },
  {
   "cell_type": "markdown",
   "id": "89ca9a96",
   "metadata": {},
   "source": [
    "# Normalized Data\n",
    " - Sd = 1\n",
    " - mean = 0"
   ]
  },
  {
   "cell_type": "raw",
   "id": "72ffcd93",
   "metadata": {},
   "source": [
    "Mod = most repeated values\n",
    "median = middle value\n",
    "odd median = n+1/2\n",
    "even median = n/2 +1,n/2"
   ]
  },
  {
   "cell_type": "raw",
   "id": "1e2c0f7e",
   "metadata": {},
   "source": [
    "Histogram - For contineous \n",
    "Bar plot- Discrete"
   ]
  },
  {
   "cell_type": "markdown",
   "id": "0c41430d",
   "metadata": {},
   "source": [
    "# nSd = n(mean)* Sd\n",
    "2Sd = 2*mean * Sd"
   ]
  },
  {
   "cell_type": "markdown",
   "id": "584cbacd",
   "metadata": {},
   "source": [
    "# 68% data lies b/w 1 standard deviation"
   ]
  },
  {
   "cell_type": "raw",
   "id": "d1556e66",
   "metadata": {},
   "source": [
    "95% data lies b/w 2 Sd\n",
    "99.7% data lies b/w 3 Sd"
   ]
  },
  {
   "cell_type": "markdown",
   "id": "b43e4418",
   "metadata": {},
   "source": [
    "# Subtract Data from Mean devided by Sd = Normalized Data"
   ]
  },
  {
   "cell_type": "code",
   "execution_count": null,
   "id": "bff59a84",
   "metadata": {},
   "outputs": [],
   "source": []
  },
  {
   "cell_type": "code",
   "execution_count": null,
   "id": "a2fce5b1",
   "metadata": {},
   "outputs": [],
   "source": []
  },
  {
   "cell_type": "markdown",
   "id": "a974511f",
   "metadata": {},
   "source": [
    "# BOX Plot"
   ]
  },
  {
   "cell_type": "raw",
   "id": "08ab52cb",
   "metadata": {},
   "source": [
    " - percentile is related to everyone."
   ]
  },
  {
   "cell_type": "markdown",
   "id": "a5fe266f",
   "metadata": {},
   "source": [
    "# Percentile  Formula = (Num of values below 'x' *100)/n\n",
    "It is a measure used in statistics indicating the value below which a given percentage of observations in \n",
    "a group of observations fall. "
   ]
  },
  {
   "cell_type": "markdown",
   "id": "48bd3cec",
   "metadata": {},
   "source": [
    "# Five Number Summary\n",
    "Min, first Quartile , median, Thrid Quartie, Max"
   ]
  },
  {
   "cell_type": "raw",
   "id": "11749525",
   "metadata": {},
   "source": [
    "x= [1,2,3,4,5,5,6,7,8]\n",
    "\n",
    "lowerfence  = Q1-1.5*(IQR) ->Inter Quartile Range\n",
    "upperfence = Q3+1.5*(IQR)\n",
    "\n",
    "IQR = Q3-Q1\n",
    "\n",
    "Q1 = 25%\n",
    "Q2= 50%\n",
    "Q3 = 75%\n",
    "Q4 = 100%\n",
    "\n",
    "Q1 = (total number *25)/100\n",
    "Q1 = 20*25/100\n",
    "    = 5th\n",
    "    =3\n",
    "Q3 = 20*75/100\n",
    "    =15th\n",
    "    =7\n",
    "    \n",
    "IQR = Q3-Q1\n",
    "    =7-4\n",
    "    =4\n",
    "    \n",
    "Lowerfence = Q1-1.5(IQR)\n",
    "            = 3-1.5(4)\n",
    "            = -3\n",
    "        \n",
    "Upperfence = Q3+1.5(IQR)\n",
    "            = 7+1.5(4)\n",
    "            = 13\n",
    "\n",
    "Med = 6 (Most repeated value) ==6\n",
    "Min ==1\n",
    "Max==9"
   ]
  },
  {
   "cell_type": "code",
   "execution_count": null,
   "id": "57f88659",
   "metadata": {},
   "outputs": [],
   "source": []
  }
 ],
 "metadata": {
  "kernelspec": {
   "display_name": "Python 3 (ipykernel)",
   "language": "python",
   "name": "python3"
  },
  "language_info": {
   "codemirror_mode": {
    "name": "ipython",
    "version": 3
   },
   "file_extension": ".py",
   "mimetype": "text/x-python",
   "name": "python",
   "nbconvert_exporter": "python",
   "pygments_lexer": "ipython3",
   "version": "3.9.7"
  }
 },
 "nbformat": 4,
 "nbformat_minor": 5
}
